{
  "nbformat": 4,
  "nbformat_minor": 0,
  "metadata": {
    "colab": {
      "provenance": [],
      "gpuType": "T4"
    },
    "kernelspec": {
      "name": "python3",
      "display_name": "Python 3"
    },
    "language_info": {
      "name": "python"
    },
    "accelerator": "GPU"
  },
  "cells": [
    {
      "cell_type": "markdown",
      "source": [
        "TODO:\n",
        "\n",
        "\n",
        "1.   \"play\" with the threshold, calculate it according to the mean of the others, or some other method, to determine the best one\n",
        "2.   Try to incorporate the methods mentioned in the tips in the task description\n",
        "\n"
      ],
      "metadata": {
        "id": "aQYHLMAs_AsY"
      }
    },
    {
      "cell_type": "markdown",
      "source": [
        "# Given code, copied from: \"project_util.py\""
      ],
      "metadata": {
        "id": "KpzyirKPBLrl"
      }
    },
    {
      "cell_type": "code",
      "execution_count": 28,
      "metadata": {
        "id": "SJRQynRtBGdL"
      },
      "outputs": [],
      "source": [
        "import torch\n",
        "import torch.nn as nn\n",
        "import torch.nn.functional as F\n",
        "import torchvision\n",
        "from torchvision import datasets, transforms\n",
        "from torchvision.transforms import ToTensor, Resize\n",
        "from torchvision.datasets import MNIST, CIFAR10, FashionMNIST\n",
        "from torch.utils.data import Dataset, DataLoader, SubsetRandomSampler\n",
        "\n",
        "#our imports\n",
        "from torchvision.transforms import Normalize\n",
        "from tqdm import tqdm\n",
        "import matplotlib.pyplot as plt\n",
        "import numpy as np\n",
        "import scipy.spatial.distance as spd\n",
        "from scipy.stats import weibull_min\n",
        "from torch import optim\n",
        "\n",
        "\n",
        "device = torch.device(\"cuda\" if torch.cuda.is_available() else \"cpu\")\n",
        "\n",
        "eval_mode = False  # Set to True for evaluation-only mode\n",
        "\n",
        "baseline_model_path = \"./baseline_model.pth\"\n",
        "osr_model_path = \"./osr_model.pth\"\n",
        "\n",
        "def save_model(model, path):\n",
        "    torch.save(model.state_dict(), path)\n",
        "\n",
        "def load_model(model, path):\n",
        "    model.load_state_dict(torch.load(path, map_location=device))\n",
        "    model.to(device)\n",
        "    return model"
      ]
    },
    {
      "cell_type": "code",
      "source": [
        "# OSR Dataset template\n",
        "class CombinedDataset(Dataset):\n",
        "    def __init__(self, mnist, ood, transform_mnist=None, transform_ood=None):\n",
        "        self.mnist = mnist\n",
        "        self.ood = ood\n",
        "        # transforms could be defined either here or when you init each dataset.\n",
        "        self.transform_mnist = transform_mnist\n",
        "        self.transform_ood = transform_ood\n",
        "\n",
        "    def __len__(self):\n",
        "        # combined length of MNIST and OOD\n",
        "        return len(self.mnist) + len(self.ood)\n",
        "\n",
        "    def __getitem__(self, idx):\n",
        "        if idx < len(self.mnist):\n",
        "            # if index is within the range of MNIST, return MNIST data and label\n",
        "            data, label = self.mnist[idx]\n",
        "            if self.transform_mnist:\n",
        "                data = self.transform_mnist(data)\n",
        "            return data, label\n",
        "        else:\n",
        "            # if index is beyond the range of MNIST, return OOD data and 10 as label\n",
        "            data, _ = self.ood[idx - len(self.mnist)]  # adjust index for OOD\n",
        "            if self.transform_ood:\n",
        "                data = self.transform_ood(data)\n",
        "            return data, 10  # OOD label is always 10\n",
        "\n",
        "def eval_model(model, data_loader, device, threshold): #EY- changed to incorporate threshold\n",
        "    model.eval()\n",
        "    correct_mnist, total_mnist = 0, 0\n",
        "    correct_ood, total_ood = 0, 0\n",
        "    total_correct, total_samples = 0, 0\n",
        "\n",
        "    with torch.no_grad():\n",
        "        for data, labels in data_loader:\n",
        "            data, labels = data.to(device), labels.to(device)\n",
        "            data = data.view(-1, 28 * 28)\n",
        "            recon, preds, embeddings = model(data)\n",
        "\n",
        "            # Calculate reconstruction error\n",
        "            recon_error = torch.mean((recon - data) ** 2, dim=1)\n",
        "\n",
        "            # Classification predictions\n",
        "            probas, y_pred = torch.max(preds, 1)\n",
        "\n",
        "            # OOD Detection using reconstruction error\n",
        "            is_ood = recon_error > threshold\n",
        "            y_pred[is_ood] = 10  # Classify as \"Unknown\"\n",
        "\n",
        "            # Evaluate MNIST and OOD accuracy\n",
        "            mask_mnist = labels < 10\n",
        "            mask_ood = labels == 10\n",
        "\n",
        "            total_mnist += mask_mnist.sum().item()\n",
        "            total_ood += mask_ood.sum().item()\n",
        "\n",
        "            correct_mnist += (y_pred[mask_mnist] == labels[mask_mnist]).sum().item()\n",
        "            correct_ood += (y_pred[mask_ood] == labels[mask_ood]).sum().item()\n",
        "\n",
        "            total_correct += (y_pred == labels).sum().item()\n",
        "            total_samples += labels.size(0)\n",
        "\n",
        "    acc_mnist = correct_mnist / total_mnist if total_mnist > 0 else 0\n",
        "    acc_ood = correct_ood / total_ood if total_ood > 0 else 0\n",
        "    acc_total = total_correct / total_samples\n",
        "    return acc_mnist, acc_ood, acc_total"
      ],
      "metadata": {
        "id": "1yBGKuSnBK3F"
      },
      "execution_count": 29,
      "outputs": []
    },
    {
      "cell_type": "markdown",
      "source": [
        "# Our Implementation:"
      ],
      "metadata": {
        "id": "gkM9-AmnBq5M"
      }
    },
    {
      "cell_type": "markdown",
      "source": [
        "## The Model"
      ],
      "metadata": {
        "id": "4WqgUmOVHHaf"
      }
    },
    {
      "cell_type": "code",
      "source": [
        "class autoencoder(nn.Module):\n",
        "    def __init__(self):\n",
        "        super(autoencoder, self).__init__()\n",
        "        self.code_size = 2\n",
        "        self.encoder = nn.Sequential(\n",
        "            nn.Linear(28 * 28, 256),\n",
        "            nn.ReLU(True),\n",
        "            nn.Linear(256, 128),\n",
        "            nn.ReLU(True),\n",
        "            nn.Linear(128, 64),\n",
        "            nn.ReLU(True),\n",
        "            nn.Linear(64,\n",
        "            self.code_size))\n",
        "        self.decoder = nn.Sequential(\n",
        "            nn.Linear(self.code_size, 64),\n",
        "            nn.ReLU(True),\n",
        "            nn.Linear(64, 128),\n",
        "            nn.ReLU(True),\n",
        "            nn.Linear(128, 256),\n",
        "            nn.ReLU(True),\n",
        "            nn.Linear(256, 28 * 28),\n",
        "            #nn.Tanh()) //optional, this is an activation func on the output of decoder, sometimes needed and sometimes not\n",
        "        )\n",
        "\n",
        "    def forward(self, x):\n",
        "        encoded_vector = self.encoder(x)\n",
        "        recon = self.decoder(encoded_vector) # reconstructed vector\n",
        "        return recon, encoded_vector\n",
        "\n",
        "\n",
        "class ML_autoencoder_OSR(autoencoder):\n",
        "    def __init__(self):\n",
        "        super(ML_autoencoder_OSR, self).__init__()\n",
        "        self.n_classes = 11  # 10 MNIST classes + 1 for \"Unknown\"\n",
        "        self.clf = nn.Sequential(\n",
        "            nn.Linear(self.code_size, self.n_classes),\n",
        "            nn.LogSoftmax(dim=1),\n",
        "        )\n",
        "\n",
        "    def forward(self, x):\n",
        "        encoded_vector = self.encoder(x)\n",
        "        recon = self.decoder(encoded_vector)\n",
        "        preds = self.clf(encoded_vector)\n",
        "        return recon, preds, encoded_vector\n",
        "\n",
        "\n",
        "input_size = 784\n",
        "hidden_sizes = [128, 64]\n",
        "output_size = 10\n",
        "class Net(nn.Module):\n",
        "    def __init__(self):\n",
        "      super(Net, self).__init__()\n",
        "      self.input = nn.Linear(input_size, hidden_sizes[0])\n",
        "      self.hidden1 = nn.Linear(hidden_sizes[0], hidden_sizes[1])\n",
        "      self.hidden2 = nn.Linear(hidden_sizes[1], output_size)\n",
        "\n",
        "    # x represents our data\n",
        "    def forward(self, x):\n",
        "      x = self.input(x)\n",
        "      x = F.relu(x)\n",
        "      x = self.hidden1(x)\n",
        "      x = F.relu(x)\n",
        "      # sometimes refered to as 'logits'\n",
        "      x = self.hidden2(x)\n",
        "      output = F.log_softmax(x, dim=1)\n",
        "      return output\n",
        "\n",
        "baseline_model = Net().to(device)"
      ],
      "metadata": {
        "id": "scdYhRn9Btcm"
      },
      "execution_count": 30,
      "outputs": []
    },
    {
      "cell_type": "markdown",
      "source": [
        "## Data preparation"
      ],
      "metadata": {
        "id": "mCWiJSQsG20M"
      }
    },
    {
      "cell_type": "code",
      "source": [
        "num_epochs = 300\n",
        "batch_size = 1024\n",
        "learning_rate = 0.001\n",
        "\n",
        "osr_mapping = {i: i for i in range(10)}\n",
        "osr_mapping[10] = \"Unknown\"\n",
        "\n",
        "# Train on a random subset of 1k examples\n",
        "transform = transforms.Compose([Resize((28, 28)),ToTensor(),Normalize((0.5,), (0.5,))])\n",
        "\n",
        "ood_transform = transforms.Compose([Resize((28, 28)), transforms.Grayscale(num_output_channels=1), ToTensor(), Normalize((0.5,), (0.5,))])\n",
        "\n",
        "trainset = torchvision.datasets.MNIST(root='./data', train=True, download=True, transform=transform)\n",
        "\n",
        "testset = torchvision.datasets.MNIST(root='./data', train=False, download=True, transform=transform)\n",
        "\n",
        "# CIFAR10 as OOD\n",
        "ood_cifar = CIFAR10(root='./data', train=False, download=True, transform=ood_transform)\n",
        "ood_cifar.targets = [10] * len(ood_cifar)  # Set all labels to 10 (\"Unknown\")\n",
        "\n",
        "# FashionMNIST as OOD\n",
        "ood_fashion = FashionMNIST(root='./data', train=False, download=True, transform=ood_transform)\n",
        "ood_fashion.targets = [10] * len(ood_fashion)  # Set all labels to 10 (\"Unknown\")\n",
        "\n",
        "# Combined OOD dataset\n",
        "combined_ood = torch.utils.data.ConcatDataset([ood_cifar, ood_fashion])\n",
        "\n",
        "# Step 4: Combine MNIST and OOD for OSR evaluation\n",
        "combined_ds = CombinedDataset(testset, combined_ood)\n",
        "\n",
        "N = 1000\n",
        "torch.manual_seed(0)\n",
        "np.random.seed(0)\n",
        "\n",
        "# sample indicies\n",
        "train_size = len(trainset)\n",
        "train_idx = np.arange(train_size)\n",
        "train_subset_idx = np.random.choice(train_idx, N)\n",
        "train_subset_sampler = SubsetRandomSampler(train_subset_idx)\n",
        "\n",
        "trainloader = DataLoader(trainset, batch_size=batch_size, sampler=train_subset_sampler)"
      ],
      "metadata": {
        "colab": {
          "base_uri": "https://localhost:8080/"
        },
        "id": "KcF4h0mmG8Fk",
        "outputId": "55d304e3-d8ef-4117-8438-558e6cc2abc6"
      },
      "execution_count": 31,
      "outputs": [
        {
          "output_type": "stream",
          "name": "stdout",
          "text": [
            "Files already downloaded and verified\n"
          ]
        }
      ]
    },
    {
      "cell_type": "markdown",
      "source": [
        "## Training"
      ],
      "metadata": {
        "id": "cMFzQaEUG8bt"
      }
    },
    {
      "cell_type": "code",
      "source": [
        "def train_baseline_model(model, trainloader, num_epochs=10):\n",
        "  epoch_loss_list = []\n",
        "  criterion = nn.NLLLoss()\n",
        "  optimizer = optim.SGD(model.parameters(), lr=0.01, momentum=0.9)\n",
        "  for epoch in tqdm(range(num_epochs), desc=\"Training MNIST MLP\"):  # loop over the dataset multiple times\n",
        "      running_loss = 0.0\n",
        "      for i, data in enumerate(trainloader, 0):\n",
        "          # get the inputs; data is a list of [inputs, labels]\n",
        "          inputs, labels = data\n",
        "          # [batch_sizex1x28x28 -> 784]\n",
        "          inputs = inputs.view(inputs.shape[0], -1)\n",
        "          # mode to device/cuda\n",
        "          inputs, labels = inputs.to(device), labels.to(device)\n",
        "\n",
        "          # zero the parameter gradients\n",
        "          optimizer.zero_grad()\n",
        "\n",
        "          # forward + backward + optimize\n",
        "          outputs = model(inputs)\n",
        "          loss = criterion(outputs, labels)\n",
        "          loss.backward()\n",
        "          optimizer.step()\n",
        "\n",
        "          # print statistics\n",
        "          running_loss += loss.item()\n",
        "      epoch_loss_list.append(running_loss)\n",
        "\n",
        "  plt.plot(epoch_loss_list)\n",
        "  plt.grid()\n",
        "  plt.xlabel(\"Batch num\")\n",
        "  plt.ylabel(\"Loss\")\n",
        "  plt.title(\"MNIST MLP Loss over epochs\")\n",
        "  plt.show()\n",
        "  return model\n",
        "\n",
        "\n",
        "def train_OSR_model(margin=1.0, num_epochs=500):\n",
        "    criterion = nn.MSELoss()\n",
        "    clf_criterion = nn.NLLLoss()\n",
        "\n",
        "    model = ML_autoencoder_OSR().to(device)\n",
        "\n",
        "    optimizer = torch.optim.Adam(model.parameters(), lr=learning_rate, weight_decay=1e-5)\n",
        "\n",
        "    # Lists to hold loss across epochs\n",
        "    loss_train_ae = []\n",
        "    loss_train_clf = []\n",
        "\n",
        "    for epoch in tqdm(range(num_epochs)):\n",
        "        loss_epoch = 0\n",
        "        loss_ae_epoch = 0\n",
        "        loss_clf_epoch = 0\n",
        "\n",
        "        for data in trainloader:\n",
        "            # Batch loss for updating the model\n",
        "            loss = 0\n",
        "            optimizer.zero_grad()\n",
        "            img, labels = data\n",
        "            img = img.view(img.size(0), -1).to(device) #resize the image into a vector\n",
        "            labels = labels.to(device)\n",
        "\n",
        "            # Forward pass\n",
        "            recon, preds, embeddings = model(img)\n",
        "\n",
        "            # Reconstruction loss\n",
        "            loss_ae_batch = criterion(recon, img)\n",
        "            loss += loss_ae_batch\n",
        "            loss_ae_epoch += loss_ae_batch.item()\n",
        "\n",
        "\n",
        "            loss_clf_batch = clf_criterion(preds, labels)\n",
        "            loss += loss_clf_batch\n",
        "            loss_clf_epoch += loss_clf_batch.item()\n",
        "\n",
        "            # Backward pass and optimization\n",
        "            loss.backward()\n",
        "            optimizer.step()\n",
        "            loss_epoch += loss.item()\n",
        "\n",
        "        # Record losses\n",
        "        loss_train_ae.append(loss_ae_epoch / len(trainloader))\n",
        "        loss_train_clf.append(loss_clf_epoch / len(trainloader))\n",
        "\n",
        "    # Evaluation mode\n",
        "    model.eval()\n",
        "\n",
        "    # Plot losses\n",
        "    plt.plot(loss_train_ae, label=\"Reconstruction loss\")\n",
        "    plt.plot(loss_train_clf, label=\"Classification loss\")\n",
        "\n",
        "\n",
        "    plt.xlabel(\"Epoch\")\n",
        "    plt.ylabel(\"Error\")\n",
        "    plt.legend()\n",
        "    plt.grid()\n",
        "    plt.title(\"AE Training Loss\")\n",
        "    plt.show()\n",
        "    return model"
      ],
      "metadata": {
        "id": "FMzFWOYuG_cL"
      },
      "execution_count": 32,
      "outputs": []
    },
    {
      "cell_type": "code",
      "source": [
        "# Train Baseline Model\n",
        "if not eval_mode:\n",
        "    baseline_model_trained = train_baseline_model(baseline_model, trainloader, num_epochs=100)\n",
        "    save_model(baseline_model_trained, baseline_model_path)\n",
        "else:\n",
        "    baseline_model_trained = load_model(baseline_model, baseline_model_path)\n"
      ],
      "metadata": {
        "colab": {
          "base_uri": "https://localhost:8080/",
          "height": 489
        },
        "id": "CPt7qc4THcDN",
        "outputId": "55920090-2ae2-4a9f-a2f9-f9dd6941f49d"
      },
      "execution_count": 33,
      "outputs": [
        {
          "output_type": "stream",
          "name": "stderr",
          "text": [
            "Training MNIST MLP: 100%|██████████| 100/100 [00:33<00:00,  2.94it/s]\n"
          ]
        },
        {
          "output_type": "display_data",
          "data": {
            "text/plain": [
              "<Figure size 640x480 with 1 Axes>"
            ],
            "image/png": "[encoded data removed]"
          },
          "metadata": {}
        }
      ]
    },
    {
      "cell_type": "code",
      "source": [
        "# Train OSR Model\n",
        "if not eval_mode:\n",
        "    OSR_model_trained = train_OSR_model(num_epochs=num_epochs)\n",
        "    save_model(OSR_model_trained, osr_model_path)\n",
        "else:\n",
        "    OSR_model_trained = load_model(ML_autoencoder_OSR(), osr_model_path)"
      ],
      "metadata": {
        "colab": {
          "base_uri": "https://localhost:8080/",
          "height": 489
        },
        "id": "A_mgDFmb53Hg",
        "outputId": "64989ace-2bf1-4a63-f811-26e99d2555d4"
      },
      "execution_count": 34,
      "outputs": [
        {
          "output_type": "stream",
          "name": "stderr",
          "text": [
            "100%|██████████| 300/300 [01:51<00:00,  2.68it/s]\n"
          ]
        },
        {
          "output_type": "display_data",
          "data": {
            "text/plain": [
              "<Figure size 640x480 with 1 Axes>"
            ],
            "image/png": "[encoded data removed]"
          },
          "metadata": {}
        }
      ]
    },
    {
      "cell_type": "markdown",
      "source": [
        "## Evalutation"
      ],
      "metadata": {
        "id": "zq4bC1r-HFLN"
      }
    },
    {
      "cell_type": "markdown",
      "source": [
        "Accuracy of OSR Model only on MNIST:"
      ],
      "metadata": {
        "id": "Eqn6X4emJPcT"
      }
    },
    {
      "cell_type": "code",
      "source": [
        "def eval_baseline(model, testloader, device):\n",
        "    model.eval()\n",
        "    correct = 0\n",
        "    total = 0\n",
        "    with torch.no_grad():\n",
        "        for data, labels in testloader:\n",
        "            data, labels = data.view(data.size(0), -1).to(device), labels.to(device)\n",
        "            outputs = model(data)\n",
        "            _, predicted = torch.max(outputs, 1)\n",
        "            correct += (predicted == labels).sum().item()\n",
        "            total += labels.size(0)\n",
        "    return correct / total\n",
        "\n",
        "# Create a DataLoader for only the MNIST test set\n",
        "mnist_loader = DataLoader(testset, batch_size=batch_size, shuffle=False)\n",
        "\n",
        "# Evaluate the model on MNIST only\n",
        "acc_mnist_only = eval_baseline(baseline_model_trained, mnist_loader, device)\n",
        "\n",
        "# Print the results\n",
        "print(f\"Accuracy on MNIST only: {acc_mnist_only:.2%}\")"
      ],
      "metadata": {
        "id": "ZmzVmlvNJO1l",
        "colab": {
          "base_uri": "https://localhost:8080/"
        },
        "outputId": "dd2d02b2-d58f-47c8-bce8-0c70840a1093"
      },
      "execution_count": 35,
      "outputs": [
        {
          "output_type": "stream",
          "name": "stdout",
          "text": [
            "Accuracy on MNIST only: 86.25%\n"
          ]
        }
      ]
    },
    {
      "cell_type": "markdown",
      "source": [
        "Accuracy of OSR Model on the combined data set:"
      ],
      "metadata": {
        "id": "yKSVoYhQJSn9"
      }
    },
    {
      "cell_type": "code",
      "source": [
        "osr_loader = DataLoader(combined_ds, batch_size=1024, shuffle=False) #this combined_ds contains also the testset use to evaluate the baseline model\n",
        "\n",
        "threshold = 0.1  # Set a suitable threshold based on training reconstruction errors\n",
        "\n",
        "acc_mnist, acc_ood, acc_total = eval_model(OSR_model_trained, osr_loader, device, threshold)\n",
        "\n",
        "print(f\"Accuracy on MNIST in OSR: {acc_mnist:.2%}\")\n",
        "print(f\"Accuracy on OOD in OSR: {acc_ood:.2%}\")\n",
        "print(f\"Total Accuracy in OSR: {acc_total:.2%}\")\n"
      ],
      "metadata": {
        "id": "_Io9b4mTHIBT",
        "colab": {
          "base_uri": "https://localhost:8080/"
        },
        "outputId": "81e76148-efac-49a6-ea66-d29002672b79"
      },
      "execution_count": 36,
      "outputs": [
        {
          "output_type": "stream",
          "name": "stdout",
          "text": [
            "Accuracy on MNIST in OSR: 4.94%\n",
            "Accuracy on OOD in OSR: 99.88%\n",
            "Total Accuracy in OSR: 68.23%\n"
          ]
        }
      ]
    }
  ]
}